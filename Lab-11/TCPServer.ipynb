{
 "cells": [
  {
   "cell_type": "code",
   "execution_count": null,
   "id": "c625288a",
   "metadata": {},
   "outputs": [],
   "source": [
    "import socket\n",
    "\n",
    "HOST = '127.0.0.1'\n",
    "PORT = 65432\n",
    "\n",
    "print('------------------ Server ------------------') \n",
    "\n",
    "with socket.socket(socket.AF_INET, socket.SOCK_STREAM) as sock:\n",
    "    sock.bind((HOST, PORT))\n",
    "    sock.listen(1)\n",
    "    conn, addr = sock.accept()\n",
    "\n",
    "    with conn:\n",
    "        print(f'Connected by: {addr}')\n",
    "        while True:\n",
    "            data = conn.recv(1024)\n",
    "            if not data: \n",
    "                break\n",
    "\n",
    "            filename = data.decode('utf-8')\n",
    "            print(f'Received Filename: {filename}')\n",
    "\n",
    "            try:\n",
    "                with open(filename, 'r') as f:\n",
    "                    data = f.read()\n",
    "                data = bytes(data, 'utf-8')\n",
    "            except:\n",
    "                data = bytes(f'File {filename} not found', 'utf-8')\n",
    "\n",
    "            conn.sendall(data)\n",
    "            print(f'Sent: {data}')\n",
    "            print()"
   ]
  }
 ],
 "metadata": {
  "kernelspec": {
   "display_name": "Python 3 (ipykernel)",
   "language": "python",
   "name": "python3"
  },
  "language_info": {
   "codemirror_mode": {
    "name": "ipython",
    "version": 3
   },
   "file_extension": ".py",
   "mimetype": "text/x-python",
   "name": "python",
   "nbconvert_exporter": "python",
   "pygments_lexer": "ipython3",
   "version": "3.9.7"
  }
 },
 "nbformat": 4,
 "nbformat_minor": 5
}
