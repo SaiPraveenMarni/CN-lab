{
 "cells": [
  {
   "cell_type": "code",
   "execution_count": null,
   "id": "7a53c242",
   "metadata": {},
   "outputs": [],
   "source": [
    "import socket\n",
    "\n",
    "HOST = '127.0.0.1'\n",
    "PORT = 65432\n",
    "\n",
    "print('------------------ Client ------------------')\n",
    "\n",
    "with socket.socket(socket.AF_INET, socket.SOCK_DGRAM) as sock:\n",
    "    sock.connect((HOST, PORT))\n",
    "    while True:\n",
    "        filename = input('Enter file to request from server: ')\n",
    "\n",
    "        if not filename:\n",
    "            break\n",
    "\n",
    "        sock.sendall(bytes(filename, 'utf-8'))\n",
    "        print(f'Sent: {filename}')\n",
    "\n",
    "        data = sock.recv(1024).decode('utf-8')\n",
    "        print(f'Received: {data}')\n",
    "        print()"
   ]
  }
 ],
 "metadata": {
  "kernelspec": {
   "display_name": "Python 3 (ipykernel)",
   "language": "python",
   "name": "python3"
  },
  "language_info": {
   "codemirror_mode": {
    "name": "ipython",
    "version": 3
   },
   "file_extension": ".py",
   "mimetype": "text/x-python",
   "name": "python",
   "nbconvert_exporter": "python",
   "pygments_lexer": "ipython3",
   "version": "3.9.7"
  }
 },
 "nbformat": 4,
 "nbformat_minor": 5
}
