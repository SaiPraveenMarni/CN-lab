{
 "cells": [
  {
   "cell_type": "code",
   "execution_count": 2,
   "id": "693d8d08",
   "metadata": {},
   "outputs": [
    {
     "name": "stdout",
     "output_type": "stream",
     "text": [
      "Enter Bucket Size: 200\n",
      "Enter Output Rate: 150\n",
      "Enter Input Packets: 400 500 650 200 250\n",
      "Packet No: 0 Packet Size: 400\n",
      "\t Bucket Overflow\n",
      "Packet No: 1 Packet Size: 500\n",
      "\t Bucket Overflow\n",
      "Packet No: 2 Packet Size: 650\n",
      "\t Bucket Overflow\n",
      "Packet No: 3 Packet Size: 200\n",
      "\t 150 bytes sent\n",
      "\t Last 50 bytes sent\n",
      "\t Bucket output successful \n",
      "\n",
      "Packet No: 4 Packet Size: 250\n",
      "\t Bucket Overflow\n"
     ]
    }
   ],
   "source": [
    "class LeakyBucket():\n",
    "  def __init__(self, bucket_size, output_rate, input_packets):\n",
    "    self.size = bucket_size\n",
    "    self.orate = output_rate\n",
    "    self.istream = input_packets\n",
    "\n",
    "  def congestion_control(self):\n",
    "    for x in range(len(self.istream)):\n",
    "      packet_size = self.istream[x]\n",
    "      print(f\"Packet No: {x} Packet Size: {packet_size}\")\n",
    "\n",
    "      if packet_size > self.size:\n",
    "        print(\"\\t Bucket Overflow\")\n",
    "      else:\n",
    "        while packet_size > self.orate:\n",
    "          print(f\"\\t {self.orate} bytes sent\")\n",
    "          packet_size -= self.orate\n",
    "\n",
    "        if packet_size:\n",
    "          print(f\"\\t Last {packet_size} bytes sent\")\n",
    "        \n",
    "        print(\"\\t Bucket output successful \\n\")\n",
    "\n",
    "\n",
    "bucket_size = int(input(\"Enter Bucket Size: \"))\n",
    "output_rate = int(input(\"Enter Output Rate: \"))\n",
    "input_packets = list(map(int, input(\"Enter Input Packets: \").split()))\n",
    "\n",
    "network = LeakyBucket(bucket_size, output_rate, input_packets)\n",
    "network.congestion_control()"
   ]
  },
  {
   "cell_type": "code",
   "execution_count": null,
   "id": "95bc16d2",
   "metadata": {},
   "outputs": [],
   "source": []
  }
 ],
 "metadata": {
  "kernelspec": {
   "display_name": "Python 3 (ipykernel)",
   "language": "python",
   "name": "python3"
  },
  "language_info": {
   "codemirror_mode": {
    "name": "ipython",
    "version": 3
   },
   "file_extension": ".py",
   "mimetype": "text/x-python",
   "name": "python",
   "nbconvert_exporter": "python",
   "pygments_lexer": "ipython3",
   "version": "3.9.7"
  }
 },
 "nbformat": 4,
 "nbformat_minor": 5
}
