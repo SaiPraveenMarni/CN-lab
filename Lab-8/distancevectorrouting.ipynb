class Topology:
    def __init__(self, array_of_points):
        self.nodes = array_of_points
        self.edges = []
    
    def add_direct_connection(self, p1, p2, cost):
        self.edges.append((p1, p2, cost))
        self.edges.append((p2, p1, cost))
        
    def distance_vector_routing(self):
        import collections
        for node in self.nodes:
            dist = collections.defaultdict(int)
            next_hop = {node: node}
            for other_node in self.nodes:
                if other_node != node:
                    dist[other_node] = 100000000 # infinity
                
            # Bellman Ford Algorithm
            for i in range(len(self.nodes)-1):
                for edge in self.edges:
                    src, dest, cost = edge
                    if dist[src] + cost < dist[dest]:
                        dist[dest] = dist[src] + cost
                        if src == node:
                            next_hop[dest] =dest
                        elif src in next_hop:
                            next_hop[dest] = next_hop[src]
            
            self.print_routing_table(node, dist, next_hop)
            print()
            
    def print_routing_table(self, node, dist, next_hop):
        print(f'Routing table for {node}:')
        print('Dest \t Cost \t Next Hop')
        for dest, cost in dist.items():
            print(f'{dest} \t {cost} \t {next_hop[dest]}')
nodes = ['A', 'B', 'C', 'D', 'E']

t = Topology(nodes)

t.add_direct_connection('A', 'B', 1)
t.add_direct_connection('A', 'C', 5)
t.add_direct_connection('B', 'C', 3)
t.add_direct_connection('B', 'E', 9)
t.add_direct_connection('C', 'D', 4)
t.add_direct_connection('D', 'E', 2)

t.distance_vector_routing()
Routing table for A:
Dest 	 Cost 	 Next Hop
B 	 1 	 B
C 	 4 	 B
D 	 8 	 B
E 	 10 	 B
A 	 0 	 A

Routing table for B:
Dest 	 Cost 	 Next Hop
A 	 1 	 A
C 	 3 	 C
D 	 7 	 C
E 	 9 	 E
B 	 0 	 B

Routing table for C:
Dest 	 Cost 	 Next Hop
A 	 4 	 B
B 	 3 	 B
D 	 4 	 D
E 	 6 	 D
C 	 0 	 C

Routing table for D:
Dest 	 Cost 	 Next Hop
A 	 8 	 C
B 	 7 	 C
C 	 4 	 C
E 	 2 	 E
D 	 0 	 D

Routing table for E:
Dest 	 Cost 	 Next Hop
A 	 10 	 B
B 	 9 	 B
C 	 6 	 D
D 	 2 	 D
E 	 0 	 E

# User defined input
nodes = input('Enter the nodes: ').split()

t = Topology(nodes)

edges = int(input('Enter the number of connections: '))
for _ in range(edges):
    src, dest, cost = input('Enter [src] [dest] [cost]: ').split()
    t.add_direct_connection(src, dest, int(cost))
    
t.distance_vector_routing()
Enter the nodes: A B C D
Enter the number of connections: 4
Enter [src] [dest] [cost]: A B 7
Enter [src] [dest] [cost]: A C 9
Enter [src] [dest] [cost]: B D 6
Enter [src] [dest] [cost]: B C 5
Routing table for A:
Dest 	 Cost 	 Next Hop
B 	 7 	 B
C 	 9 	 C
D 	 13 	 B
A 	 0 	 A

Routing table for B:
Dest 	 Cost 	 Next Hop
A 	 7 	 A
C 	 5 	 C
D 	 6 	 D
B 	 0 	 B

Routing table for C:
Dest 	 Cost 	 Next Hop
A 	 9 	 A
B 	 5 	 B
D 	 11 	 B
C 	 0 	 C

Routing table for D:
Dest 	 Cost 	 Next Hop
A 	 13 	 B
B 	 6 	 B
C 	 11 	 B
D 	 0 	 D
